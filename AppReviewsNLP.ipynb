{
 "cells": [
  {
   "cell_type": "code",
   "execution_count": 1,
   "id": "3a21e158",
   "metadata": {},
   "outputs": [],
   "source": [
    "import nltk\n",
    "import numpy as np\n",
    "import pandas as pd\n",
    "from nltk.corpus import stopwords\n",
    "import re\n",
    "from sklearn.feature_extraction.text import TfidfVectorizer\n",
    "from sklearn.model_selection import train_test_split\n",
    "import torch\n",
    "import torch.nn as nn\n",
    "from torch.nn import functional as F\n",
    "from nltk.stem.porter import PorterStemmer\n",
    "import matplotlib.pyplot as plt"
   ]
  },
  {
   "cell_type": "code",
   "execution_count": 2,
   "id": "60302422",
   "metadata": {},
   "outputs": [],
   "source": [
    "app_data = pd.read_csv(\"appreviews.csv\")"
   ]
  },
  {
   "cell_type": "code",
   "execution_count": 3,
   "id": "fc73d8ed",
   "metadata": {},
   "outputs": [
    {
     "data": {
      "text/html": [
       "<div>\n",
       "<style scoped>\n",
       "    .dataframe tbody tr th:only-of-type {\n",
       "        vertical-align: middle;\n",
       "    }\n",
       "\n",
       "    .dataframe tbody tr th {\n",
       "        vertical-align: top;\n",
       "    }\n",
       "\n",
       "    .dataframe thead th {\n",
       "        text-align: right;\n",
       "    }\n",
       "</style>\n",
       "<table border=\"1\" class=\"dataframe\">\n",
       "  <thead>\n",
       "    <tr style=\"text-align: right;\">\n",
       "      <th></th>\n",
       "      <th>Text</th>\n",
       "      <th>label</th>\n",
       "    </tr>\n",
       "  </thead>\n",
       "  <tbody>\n",
       "    <tr>\n",
       "      <th>0</th>\n",
       "      <td>This is  the best apps acording to a bunch of ...</td>\n",
       "      <td>1</td>\n",
       "    </tr>\n",
       "    <tr>\n",
       "      <th>1</th>\n",
       "      <td>This is a pretty good version of the game for ...</td>\n",
       "      <td>1</td>\n",
       "    </tr>\n",
       "    <tr>\n",
       "      <th>2</th>\n",
       "      <td>this is a really . there are a bunch of levels...</td>\n",
       "      <td>1</td>\n",
       "    </tr>\n",
       "    <tr>\n",
       "      <th>3</th>\n",
       "      <td>This is a silly game and can be frustrating, b...</td>\n",
       "      <td>1</td>\n",
       "    </tr>\n",
       "    <tr>\n",
       "      <th>4</th>\n",
       "      <td>This is a terrific game on any pad. Hrs of fun...</td>\n",
       "      <td>1</td>\n",
       "    </tr>\n",
       "    <tr>\n",
       "      <th>...</th>\n",
       "      <td>...</td>\n",
       "      <td>...</td>\n",
       "    </tr>\n",
       "    <tr>\n",
       "      <th>20015</th>\n",
       "      <td>This app is terrible. It's full of bugs and cr...</td>\n",
       "      <td>0</td>\n",
       "    </tr>\n",
       "    <tr>\n",
       "      <th>20016</th>\n",
       "      <td>awesome app and I get to play w/ my friends le...</td>\n",
       "      <td>1</td>\n",
       "    </tr>\n",
       "    <tr>\n",
       "      <th>20017</th>\n",
       "      <td>pretty bad, oh well</td>\n",
       "      <td>0</td>\n",
       "    </tr>\n",
       "    <tr>\n",
       "      <th>20018</th>\n",
       "      <td>a really fun time, an immersive matching game ...</td>\n",
       "      <td>1</td>\n",
       "    </tr>\n",
       "    <tr>\n",
       "      <th>20019</th>\n",
       "      <td>too confusing for me, so I will be deleting th...</td>\n",
       "      <td>0</td>\n",
       "    </tr>\n",
       "  </tbody>\n",
       "</table>\n",
       "<p>20020 rows × 2 columns</p>\n",
       "</div>"
      ],
      "text/plain": [
       "                                                    Text  label\n",
       "0      This is  the best apps acording to a bunch of ...      1\n",
       "1      This is a pretty good version of the game for ...      1\n",
       "2      this is a really . there are a bunch of levels...      1\n",
       "3      This is a silly game and can be frustrating, b...      1\n",
       "4      This is a terrific game on any pad. Hrs of fun...      1\n",
       "...                                                  ...    ...\n",
       "20015  This app is terrible. It's full of bugs and cr...      0\n",
       "20016  awesome app and I get to play w/ my friends le...      1\n",
       "20017                                pretty bad, oh well      0\n",
       "20018  a really fun time, an immersive matching game ...      1\n",
       "20019  too confusing for me, so I will be deleting th...      0\n",
       "\n",
       "[20020 rows x 2 columns]"
      ]
     },
     "execution_count": 3,
     "metadata": {},
     "output_type": "execute_result"
    }
   ],
   "source": [
    "app_data"
   ]
  },
  {
   "cell_type": "code",
   "execution_count": 4,
   "id": "a44084c9",
   "metadata": {},
   "outputs": [
    {
     "data": {
      "text/plain": [
       "(array([ 4780.,     0.,     0.,     0.,     0.,     0.,     0.,     0.,\n",
       "            0., 15240.]),\n",
       " array([0. , 0.1, 0.2, 0.3, 0.4, 0.5, 0.6, 0.7, 0.8, 0.9, 1. ]),\n",
       " <BarContainer object of 10 artists>)"
      ]
     },
     "execution_count": 4,
     "metadata": {},
     "output_type": "execute_result"
    },
    {
     "data": {
      "image/png": "[encoded data removed]",
      "text/plain": [
       "<Figure size 640x480 with 1 Axes>"
      ]
     },
     "metadata": {},
     "output_type": "display_data"
    }
   ],
   "source": [
    "plt.hist(app_data[\"label\"])"
   ]
  },
  {
   "cell_type": "code",
   "execution_count": 5,
   "id": "227ed8ba",
   "metadata": {},
   "outputs": [],
   "source": [
    "corpus = []\n",
    "ps = PorterStemmer()\n",
    "\n",
    "for i in range(len(app_data)):\n",
    "\n",
    "    app_sentiment = re.sub('[^a-zA-Z]', ' ',app_data[\"Text\"][i])\n",
    "    app_sentiment = app_sentiment.lower()\n",
    "    app_sentiment = app_sentiment.split()\n",
    "    clean_sentiment = [ps.stem(word) for word in app_sentiment if not word in set(stopwords.words('english'))]\n",
    "    clean_sentiment = ' '.join(clean_sentiment)\n",
    "    corpus.append(clean_sentiment)"
   ]
  },
  {
   "cell_type": "code",
   "execution_count": 6,
   "id": "1a9484b2",
   "metadata": {},
   "outputs": [],
   "source": [
    "vectorizer = TfidfVectorizer(min_df = 3, max_df = 0.60)"
   ]
  },
  {
   "cell_type": "code",
   "execution_count": 7,
   "id": "0965c7cc",
   "metadata": {},
   "outputs": [],
   "source": [
    "X = vectorizer.fit_transform(corpus).toarray()\n",
    "y = app_data[\"label\"].values"
   ]
  },
  {
   "cell_type": "code",
   "execution_count": 8,
   "id": "1ba8d790",
   "metadata": {},
   "outputs": [],
   "source": [
    "X_train, X_test, y_train, y_test = train_test_split(X, y, test_size = 0.25, random_state = 58)"
   ]
  },
  {
   "cell_type": "code",
   "execution_count": 9,
   "id": "d7432ff0",
   "metadata": {},
   "outputs": [],
   "source": [
    "X_train = torch.from_numpy(X_train).float()\n",
    "X_test = torch.from_numpy(X_test).float()\n",
    "y_train = torch.from_numpy(y_train).float()\n",
    "y_test = torch.from_numpy(y_test).float()"
   ]
  },
  {
   "cell_type": "code",
   "execution_count": 10,
   "id": "1574f6b1",
   "metadata": {},
   "outputs": [
    {
     "data": {
      "text/plain": [
       "(torch.Size([15015, 4684]), torch.Size([15015]))"
      ]
     },
     "execution_count": 10,
     "metadata": {},
     "output_type": "execute_result"
    }
   ],
   "source": [
    "X_train.shape, y_train.shape"
   ]
  },
  {
   "cell_type": "code",
   "execution_count": 11,
   "id": "1b87a0fa",
   "metadata": {},
   "outputs": [
    {
     "data": {
      "text/plain": [
       "(torch.Size([5005, 4684]), torch.Size([5005]))"
      ]
     },
     "execution_count": 11,
     "metadata": {},
     "output_type": "execute_result"
    }
   ],
   "source": [
    "X_test.shape, y_test.shape"
   ]
  },
  {
   "cell_type": "code",
   "execution_count": 12,
   "id": "f11f2181",
   "metadata": {},
   "outputs": [
    {
     "data": {
      "text/plain": [
       "<torch._C.Generator at 0x23563e99c10>"
      ]
     },
     "execution_count": 12,
     "metadata": {},
     "output_type": "execute_result"
    }
   ],
   "source": [
    "torch.manual_seed(58)"
   ]
  },
  {
   "cell_type": "code",
   "execution_count": 13,
   "id": "6f8a3725",
   "metadata": {},
   "outputs": [],
   "source": [
    "class Model(nn.Module):\n",
    "    def __init__(self, input_features = 4684, h1 = 808, h2 = 532):\n",
    "        super(Model, self).__init__()\n",
    "        self.fc1 = torch.nn.Linear(input_features, h1)\n",
    "        self.dropout1 = torch.nn.Dropout(p=0.3)\n",
    "        self.fc2 = torch.nn.Linear(h1, h2)\n",
    "        self.dropout2 = torch.nn.Dropout(p=0.3)\n",
    "        self.fc3 = torch.nn.Linear(h2, 1)\n",
    "    \n",
    "    def forward(self, x):\n",
    "        x = F.relu(self.fc1(x))\n",
    "        x = self.dropout1(x)\n",
    "        x = F.leaky_relu(self.fc2(x))\n",
    "        x = self.dropout2(x)\n",
    "        x = torch.sigmoid(self.fc3(x))\n",
    "        \n",
    "        return x"
   ]
  },
  {
   "cell_type": "code",
   "execution_count": 14,
   "id": "5fceb87e",
   "metadata": {},
   "outputs": [],
   "source": [
    "model = Model()\n",
    "optimizer = torch.optim.Adam(model.parameters(), lr = 0.01)\n",
    "criterion = nn.BCELoss()"
   ]
  },
  {
   "cell_type": "code",
   "execution_count": 15,
   "id": "7a0b57f8",
   "metadata": {
    "scrolled": false
   },
   "outputs": [
    {
     "name": "stdout",
     "output_type": "stream",
     "text": [
      "Epoch: 0 and loss: 0.6855756044387817\n",
      "Epoch: 5 and loss: 0.4237866699695587\n",
      "Epoch: 10 and loss: 0.28707730770111084\n",
      "Epoch: 15 and loss: 0.22925624251365662\n",
      "Epoch: 20 and loss: 0.16919375956058502\n"
     ]
    }
   ],
   "source": [
    "epochs = 21\n",
    "losses = []\n",
    "\n",
    "for i in range(epochs):\n",
    "    model.train()\n",
    "    optimizer.zero_grad()\n",
    "    y_pred = model(X_train)\n",
    "    loss = criterion(y_pred.squeeze(), y_train)\n",
    "    losses.append(loss.item())\n",
    "    loss.backward()\n",
    "    optimizer.step()\n",
    "\n",
    "    if i % 5 == 0:\n",
    "        print(f\"Epoch: {i} and loss: {loss.item()}\")"
   ]
  },
  {
   "cell_type": "code",
   "execution_count": 16,
   "id": "39513558",
   "metadata": {},
   "outputs": [
    {
     "name": "stdout",
     "output_type": "stream",
     "text": [
      "tensor([[0.9978],\n",
      "        [0.3590],\n",
      "        [1.0000],\n",
      "        ...,\n",
      "        [0.9836],\n",
      "        [0.3647],\n",
      "        [0.9657]])\n",
      "Test Accuracy: 87.23%\n"
     ]
    }
   ],
   "source": [
    "model.eval()\n",
    "with torch.no_grad():\n",
    "    y_pred = model(X_test)\n",
    "    print(y_pred)\n",
    "\n",
    "binary_predictions = (y_pred >= 0.5).float()\n",
    "\n",
    "\n",
    "correct = (binary_predictions == y_test.view(-1, 1)).sum().item()\n",
    "\n",
    "total = y_test.size(0)\n",
    "\n",
    "accuracy = correct / total\n",
    "print(f\"Test Accuracy: {accuracy:.2%}\")"
   ]
  },
  {
   "cell_type": "code",
   "execution_count": 17,
   "id": "82b56857",
   "metadata": {
    "scrolled": true
   },
   "outputs": [
    {
     "data": {
      "text/plain": [
       "tensor([[1.0000]], grad_fn=<SigmoidBackward0>)"
      ]
     },
     "execution_count": 17,
     "metadata": {},
     "output_type": "execute_result"
    }
   ],
   "source": [
    "# Some examples of the model at work below! (closer to 0 is negative, closer to 1 is positive)\n",
    "sample = [\"This app is amazing! Lots of great features to help the user experience and make my finances easy to track!\"]\n",
    "sample = vectorizer.transform(sample).toarray()\n",
    "torch.from_numpy(sample).float()\n",
    "\n",
    "sentiment = model(torch.from_numpy(sample).float())\n",
    "sentiment"
   ]
  },
  {
   "cell_type": "code",
   "execution_count": 18,
   "id": "b2b436a7",
   "metadata": {},
   "outputs": [
    {
     "data": {
      "text/plain": [
       "tensor([[0.4581]], grad_fn=<SigmoidBackward0>)"
      ]
     },
     "execution_count": 18,
     "metadata": {},
     "output_type": "execute_result"
    }
   ],
   "source": [
    "sample = [\"Do not download this app. It stole all of my information, and I had to call my credit card company to reset all of my credentials.\"]\n",
    "sample = vectorizer.transform(sample).toarray()\n",
    "torch.from_numpy(sample).float()\n",
    "\n",
    "sentiment = model(torch.from_numpy(sample).float())\n",
    "sentiment"
   ]
  },
  {
   "cell_type": "code",
   "execution_count": 19,
   "id": "ac265047",
   "metadata": {},
   "outputs": [
    {
     "data": {
      "text/plain": [
       "tensor([[1.]], grad_fn=<SigmoidBackward0>)"
      ]
     },
     "execution_count": 19,
     "metadata": {},
     "output_type": "execute_result"
    }
   ],
   "source": [
    "sample = [\"The fitness features of this were great!! I use this app every day to track my runs and it is really great -- 10/10\"]\n",
    "sample = vectorizer.transform(sample).toarray()\n",
    "torch.from_numpy(sample).float()\n",
    "\n",
    "sentiment = model(torch.from_numpy(sample).float())\n",
    "sentiment"
   ]
  }
 ],
 "metadata": {
  "kernelspec": {
   "display_name": "Python 3 (ipykernel)",
   "language": "python",
   "name": "python3"
  },
  "language_info": {
   "codemirror_mode": {
    "name": "ipython",
    "version": 3
   },
   "file_extension": ".py",
   "mimetype": "text/x-python",
   "name": "python",
   "nbconvert_exporter": "python",
   "pygments_lexer": "ipython3",
   "version": "3.11.5"
  }
 },
 "nbformat": 4,
 "nbformat_minor": 5
}
